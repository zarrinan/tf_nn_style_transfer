{
 "cells": [
  {
   "cell_type": "code",
   "execution_count": 3,
   "metadata": {},
   "outputs": [
    {
     "data": {
      "text/plain": [
       "'2.0.0-alpha0'"
      ]
     },
     "execution_count": 3,
     "metadata": {},
     "output_type": "execute_result"
    }
   ],
   "source": [
    "tf.__version__"
   ]
  },
  {
   "cell_type": "code",
   "execution_count": 10,
   "metadata": {},
   "outputs": [],
   "source": [
    "import tensorflow as tf\n",
    "import numpy as np\n",
    "import matplotlib.pyplot as plt\n",
    "%matplotlib inline"
   ]
  },
  {
   "cell_type": "code",
   "execution_count": 15,
   "metadata": {},
   "outputs": [
    {
     "name": "stdout",
     "output_type": "stream",
     "text": [
      "Tensor: tf.Tensor(b'My name is Zarrina', shape=(), dtype=string)\n",
      "Value: b'My name is Zarrina'\n"
     ]
    }
   ],
   "source": [
    "hello_zarrina = tf.constant(\"My name is Zarrina\")\n",
    "print('Tensor:', hello_zarrina)\n",
    "print('Value:', hello_zarrina.numpy())"
   ]
  },
  {
   "cell_type": "code",
   "execution_count": 16,
   "metadata": {},
   "outputs": [
    {
     "name": "stdout",
     "output_type": "stream",
     "text": [
      "tf.Tensor(\n",
      "[[1. 1.]\n",
      " [1. 1.]], shape=(2, 2), dtype=float32)\n"
     ]
    }
   ],
   "source": [
    "a = tf.ones([2,2])\n",
    "print(a)"
   ]
  },
  {
   "cell_type": "code",
   "execution_count": 17,
   "metadata": {},
   "outputs": [],
   "source": [
    "# you can't assign a value to a constant, \n",
    "# convert it to a variable first\n",
    "a = tf.Variable(a)"
   ]
  },
  {
   "cell_type": "code",
   "execution_count": 18,
   "metadata": {},
   "outputs": [
    {
     "data": {
      "text/plain": [
       "<tf.Variable 'UnreadVariable' shape=(2, 2) dtype=float32, numpy=\n",
       "array([[10.,  1.],\n",
       "       [ 1.,  1.]], dtype=float32)>"
      ]
     },
     "execution_count": 18,
     "metadata": {},
     "output_type": "execute_result"
    }
   ],
   "source": [
    "a[0,0].assign(10)"
   ]
  },
  {
   "cell_type": "code",
   "execution_count": null,
   "metadata": {},
   "outputs": [],
   "source": [
    "for function in dir(a):\n",
    "    print(function)"
   ]
  },
  {
   "cell_type": "code",
   "execution_count": 22,
   "metadata": {},
   "outputs": [
    {
     "name": "stdout",
     "output_type": "stream",
     "text": [
      "tf.Tensor(\n",
      "[[10.  1.]\n",
      " [ 1.  1.]], shape=(2, 2), dtype=float32)\n"
     ]
    }
   ],
   "source": [
    "b = a.read_value()\n",
    "print(b)"
   ]
  },
  {
   "cell_type": "code",
   "execution_count": 23,
   "metadata": {},
   "outputs": [
    {
     "data": {
      "text/plain": [
       "<tf.Tensor: id=62, shape=(2, 2), dtype=float32, numpy=\n",
       "array([[10.,  1.],\n",
       "       [ 1.,  1.]], dtype=float32)>"
      ]
     },
     "execution_count": 23,
     "metadata": {},
     "output_type": "execute_result"
    }
   ],
   "source": [
    "a.read_value()"
   ]
  },
  {
   "cell_type": "code",
   "execution_count": 24,
   "metadata": {},
   "outputs": [],
   "source": [
    "d = tf.constant(4)\n",
    "e = tf.constant(8)"
   ]
  },
  {
   "cell_type": "code",
   "execution_count": 31,
   "metadata": {},
   "outputs": [
    {
     "name": "stdout",
     "output_type": "stream",
     "text": [
      "a+b: 12\n",
      "Addition with constants: tf.Tensor(12, shape=(), dtype=int32)\n",
      "Addition with constants: tf.Tensor(12, shape=(), dtype=int32)\n"
     ]
    }
   ],
   "source": [
    "# 3 ways of performing operations\n",
    "print('a+b:', d.numpy()+e.numpy())\n",
    "print('Addition with constants:', d+e)\n",
    "print('Addition with constants:', tf.add(d,e))"
   ]
  },
  {
   "cell_type": "code",
   "execution_count": 32,
   "metadata": {},
   "outputs": [
    {
     "name": "stdout",
     "output_type": "stream",
     "text": [
      "a+b: 32\n",
      "Addition with constants: tf.Tensor(32, shape=(), dtype=int32)\n",
      "Addition with constants: tf.Tensor(32, shape=(), dtype=int32)\n"
     ]
    }
   ],
   "source": [
    "print('a+b:', d.numpy()*e.numpy())\n",
    "print('Addition with constants:', d*e)\n",
    "print('Addition with constants:', tf.multiply(d,e))"
   ]
  },
  {
   "cell_type": "code",
   "execution_count": 51,
   "metadata": {},
   "outputs": [
    {
     "name": "stdout",
     "output_type": "stream",
     "text": [
      "tf.Tensor(2.1, shape=(), dtype=float32) tf.Tensor(2, shape=(), dtype=int32)\n"
     ]
    }
   ],
   "source": [
    "# convert a value to a tensor using `convert_to_tensor` method\n",
    "f = tf.convert_to_tensor(2.1)\n",
    "\n",
    "# cast it to an integer\n",
    "g = tf.cast(f, tf.int32)\n",
    "print(f, g)"
   ]
  },
  {
   "cell_type": "code",
   "execution_count": 37,
   "metadata": {},
   "outputs": [
    {
     "name": "stdout",
     "output_type": "stream",
     "text": [
      "2 3 (2, 3)\n"
     ]
    }
   ],
   "source": [
    "h = tf.ones([2,3])\n",
    "print(h.shape[0], h.shape[1], h.shape)"
   ]
  },
  {
   "cell_type": "code",
   "execution_count": 38,
   "metadata": {},
   "outputs": [
    {
     "name": "stdout",
     "output_type": "stream",
     "text": [
      "tf.Tensor(2, shape=(), dtype=int32) tf.Tensor(3, shape=(), dtype=int32)\n"
     ]
    }
   ],
   "source": [
    "shape = tf.shape(h) #saves into shape tensor\n",
    "print(shape[0], shape[1])"
   ]
  },
  {
   "cell_type": "code",
   "execution_count": 40,
   "metadata": {},
   "outputs": [
    {
     "name": "stdout",
     "output_type": "stream",
     "text": [
      "Value: 3\n"
     ]
    }
   ],
   "source": [
    "var = tf.Variable(2)\n",
    "var.assign_add(1)\n",
    "print('Value:', var.numpy())"
   ]
  },
  {
   "cell_type": "code",
   "execution_count": 41,
   "metadata": {},
   "outputs": [
    {
     "data": {
      "text/plain": [
       "<tf.Variable 'Variable:0' shape=() dtype=int32, numpy=3>"
      ]
     },
     "execution_count": 41,
     "metadata": {},
     "output_type": "execute_result"
    }
   ],
   "source": [
    "var"
   ]
  },
  {
   "cell_type": "code",
   "execution_count": 43,
   "metadata": {},
   "outputs": [
    {
     "data": {
      "text/plain": [
       "4"
      ]
     },
     "execution_count": 43,
     "metadata": {},
     "output_type": "execute_result"
    }
   ],
   "source": [
    "var_2 = var+1\n",
    "var_2.numpy()"
   ]
  },
  {
   "cell_type": "code",
   "execution_count": 44,
   "metadata": {},
   "outputs": [
    {
     "data": {
      "image/png": "[encoded data removed]",
      "text/plain": [
       "<Figure size 432x288 with 1 Axes>"
      ]
     },
     "metadata": {
      "needs_background": "light"
     },
     "output_type": "display_data"
    }
   ],
   "source": [
    "# printing out activation function\n",
    "x = np.linspace(-5,5,100)\n",
    "y_sigmoid = tf.nn.sigmoid(x)\n",
    "plt.plot(x, y_sigmoid, c='blue', label='sigmoid')\n",
    "plt.ylim((-0.2, 1.2))\n",
    "plt.legend(loc='best')\n",
    "plt.show()"
   ]
  },
  {
   "cell_type": "code",
   "execution_count": 66,
   "metadata": {},
   "outputs": [
    {
     "name": "stdout",
     "output_type": "stream",
     "text": [
      "4.0\n"
     ]
    }
   ],
   "source": [
    "n = tf.Variable(4.0)\n",
    "print(n.numpy())"
   ]
  },
  {
   "cell_type": "code",
   "execution_count": 67,
   "metadata": {},
   "outputs": [
    {
     "name": "stdout",
     "output_type": "stream",
     "text": [
      "tf.Tensor(12.0, shape=(), dtype=float32)\n"
     ]
    }
   ],
   "source": [
    "def f(x):\n",
    "    return n*x\n",
    "print(f(3))"
   ]
  },
  {
   "cell_type": "code",
   "execution_count": 68,
   "metadata": {},
   "outputs": [
    {
     "name": "stdout",
     "output_type": "stream",
     "text": [
      "<function <lambda> at 0xb28f93400>\n"
     ]
    }
   ],
   "source": [
    "loss = lambda: abs(f(5) - 5)\n",
    "print(loss)"
   ]
  },
  {
   "cell_type": "code",
   "execution_count": 72,
   "metadata": {},
   "outputs": [
    {
     "name": "stdout",
     "output_type": "stream",
     "text": [
      "0.5544478 tf.Tensor(2.7722392, shape=(), dtype=float32)\n",
      "0.6070792 tf.Tensor(3.035396, shape=(), dtype=float32)\n",
      "1.0092943 tf.Tensor(5.0464716, shape=(), dtype=float32)\n",
      "1.0037694 tf.Tensor(5.018847, shape=(), dtype=float32)\n",
      "0.75540006 tf.Tensor(3.7770004, shape=(), dtype=float32)\n",
      "0.7734576 tf.Tensor(3.8672879, shape=(), dtype=float32)\n",
      "0.97973347 tf.Tensor(4.8986673, shape=(), dtype=float32)\n",
      "1.3253733 tf.Tensor(6.6268663, shape=(), dtype=float32)\n",
      "1.4513454 tf.Tensor(7.256727, shape=(), dtype=float32)\n",
      "1.4044428 tf.Tensor(7.022214, shape=(), dtype=float32)\n"
     ]
    }
   ],
   "source": [
    "optimizer = tf.optimizers.Adam(learning_rate=1)\n",
    "for _ in range(10):\n",
    "    optimizer.minimize(loss, var_list=[n])\n",
    "    print(n.numpy(), f(5))\n"
   ]
  },
  {
   "cell_type": "markdown",
   "metadata": {},
   "source": [
    "## Mnist Image Classification"
   ]
  },
  {
   "cell_type": "code",
   "execution_count": 73,
   "metadata": {},
   "outputs": [
    {
     "name": "stdout",
     "output_type": "stream",
     "text": [
      "(60000, 28, 28)\n",
      "(60000,)\n",
      "(10000, 28, 28)\n",
      "(10000,)\n"
     ]
    }
   ],
   "source": [
    "# https://www.tensorflow.org/overview\n",
    "mnist = tf.keras.datasets.mnist\n",
    "(x_train, y_train),(x_test, y_test) = mnist.load_data()\n",
    "print(x_train.shape)\n",
    "print(y_train.shape)\n",
    "print(x_test.shape)\n",
    "print(y_test.shape)"
   ]
  },
  {
   "cell_type": "code",
   "execution_count": 74,
   "metadata": {},
   "outputs": [
    {
     "name": "stdout",
     "output_type": "stream",
     "text": [
      "5\n"
     ]
    },
    {
     "data": {
      "image/png": "[encoded data removed]",
      "text/plain": [
       "<Figure size 432x288 with 1 Axes>"
      ]
     },
     "metadata": {
      "needs_background": "light"
     },
     "output_type": "display_data"
    }
   ],
   "source": [
    "import matplotlib.pyplot as plt\n",
    "plt.imshow(x_train[0])\n",
    "print(y_train[0])"
   ]
  },
  {
   "cell_type": "code",
   "execution_count": 75,
   "metadata": {},
   "outputs": [],
   "source": [
    "x_train = x_train / 255.0 \n",
    "x_test = x_test / 255.0"
   ]
  },
  {
   "cell_type": "code",
   "execution_count": 78,
   "metadata": {},
   "outputs": [],
   "source": [
    "# Train image classification model using TensorFlow2 Keras API\n",
    "\n",
    "# https://www.tensorflow.org/versions/r2.0/api_docs/python/tf/keras/Model\n",
    "class MyModel(tf.keras.Model):\n",
    "    # Initialize layers as a constructor properties\n",
    "    def __init__(self):\n",
    "        \n",
    "        super().__init__()\n",
    "        self.flat = tf.keras.layers.Flatten(input_shape=(28, 28))\n",
    "        self.dense1 = tf.keras.layers.Dense(128, activation=tf.nn.relu)\n",
    "        self.dense2 = tf.keras.layers.Dense(10, activation=tf.nn.softmax)\n",
    "        \n",
    "        #set up loss function\n",
    "        # https://www.tensorflow.org/versions/r2.0/api_docs/python/tf/losses/SparseCategoricalCrossentropy\n",
    "        self.loss = tf.keras.losses.SparseCategoricalCrossentropy()\n",
    "        \n",
    "        # \n",
    "        # https://www.tensorflow.org/versions/r2.0/api_docs/python/tf/metrics/Accuracy\n",
    "        self.accuracy = tf.keras.metrics.Accuracy()\n",
    "        # https://www.tensorflow.org/versions/r2.0/api_docs/python/tf/optimizers/Adam\n",
    "        self.optimizer = tf.optimizers.Adam()\n",
    "        \n",
    "    # take inputs and run them through each layer\n",
    "    def call(self, inputs):\n",
    "        flat = self.flat(inputs)\n",
    "        dense1 = self.dense1(flat)\n",
    "        return self.dense2(dense1)\n",
    "    \n",
    "    # Calculate the loss \n",
    "    def get_loss(self, inputs, expected):\n",
    "        return self.loss(expected, self(inputs))\n",
    "    \n",
    "    # Calculate the accuracy\n",
    "    def get_accuracy(self, inputs, expected):\n",
    "        return self.accuracy(expected, tf.argmax(self(inputs), axis=1))\n",
    "    \n",
    "    # optimizer to minimize the loss\n",
    "    def optimize(self, inputs, expected):\n",
    "        # calculate the loss\n",
    "        loss = lambda: self.get_loss(inputs, expected)\n",
    "        \n",
    "        self.optimizer.minimize(loss=loss, var_list=self.trainable_weights)\n",
    "        \n",
    "    # train the model\n",
    "    def fit(self, x, y, batch_size, epochs):\n",
    "        num_samples = x.shape[0]\n",
    "        for ep in range(epochs):\n",
    "            for i_start in range(0, num_samples, batch_size):\n",
    "                x_batch = x[i_start : i_start+batch_size]\n",
    "                y_batch = y[i_start : i_start+batch_size]\n",
    "                self.optimize(x_batch, y_batch)\n",
    "            loss = self.get_loss(x,y)\n",
    "            acc = self.get_accuracy(x,y)\n",
    "            print(f'Epoch: {ep}, loss: {loss}, accuracy: {acc}')"
   ]
  },
  {
   "cell_type": "code",
   "execution_count": 79,
   "metadata": {},
   "outputs": [
    {
     "name": "stdout",
     "output_type": "stream",
     "text": [
      "Epoch: 0, loss: 0.15736503899097443, accuracy: 0.9535333514213562\n",
      "Epoch: 1, loss: 0.10244810581207275, accuracy: 0.9611499905586243\n",
      "Epoch: 2, loss: 0.08854284137487411, accuracy: 0.964638888835907\n",
      "Epoch: 3, loss: 0.07458619028329849, accuracy: 0.9674208164215088\n",
      "Epoch: 4, loss: 0.05725006014108658, accuracy: 0.9702200293540955\n"
     ]
    }
   ],
   "source": [
    "# Initialize the model and call the training function\n",
    "my_model = MyModel()\n",
    "my_model.fit(x_train, y_train, batch_size=50, epochs=5)"
   ]
  },
  {
   "cell_type": "code",
   "execution_count": 80,
   "metadata": {},
   "outputs": [
    {
     "data": {
      "text/plain": [
       "5"
      ]
     },
     "execution_count": 80,
     "metadata": {},
     "output_type": "execute_result"
    }
   ],
   "source": [
    "np.argmax(my_model(x_train[:1]))\n"
   ]
  },
  {
   "cell_type": "code",
   "execution_count": null,
   "metadata": {},
   "outputs": [],
   "source": []
  }
 ],
 "metadata": {
  "accelerator": "GPU",
  "colab": {
   "collapsed_sections": [],
   "name": "Neural Style Transfer App",
   "private_outputs": true,
   "provenance": [],
   "version": "0.3.2"
  },
  "kernelspec": {
   "display_name": "Python 3",
   "language": "python",
   "name": "python3"
  },
  "language_info": {
   "codemirror_mode": {
    "name": "ipython",
    "version": 3
   },
   "file_extension": ".py",
   "mimetype": "text/x-python",
   "name": "python",
   "nbconvert_exporter": "python",
   "pygments_lexer": "ipython3",
   "version": "3.7.3"
  }
 },
 "nbformat": 4,
 "nbformat_minor": 1
}
